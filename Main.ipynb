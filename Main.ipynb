{
 "cells": [
  {
   "cell_type": "code",
   "execution_count": 31,
   "id": "935e6147",
   "metadata": {},
   "outputs": [],
   "source": [
    "import pandas as pd\n",
    "import numpy as np\n",
    "from sklearn.model_selection import train_test_split\n",
    "from sklearn.linear_model import LinearRegression\n",
    "from sklearn.ensemble import RandomForestRegressor \n",
    "from sklearn.metrics import mean_squared_error, r2_score\n",
    "import matplotlib.pyplot as plt\n",
    "import seaborn as sns"
   ]
  },
  {
   "cell_type": "code",
   "execution_count": 32,
   "id": "a5c1df71",
   "metadata": {},
   "outputs": [],
   "source": [
    "df.drop(df.columns[0], axis=1, inplace=True, errors='ignore')\n",
    "df.dropna(inplace=True)\n"
   ]
  },
  {
   "cell_type": "code",
   "execution_count": 34,
   "id": "ccf4b83c",
   "metadata": {},
   "outputs": [
    {
     "name": "stdout",
     "output_type": "stream",
     "text": [
      "Index(['rate_persqft', 'area_insqft', 'building_status', 'price_per_sqft',\n",
      "       'bedrooms'],\n",
      "      dtype='object')\n",
      "Column 'price(L)' does not exist.\n"
     ]
    }
   ],
   "source": [
    "print(df.columns)\n",
    "df.columns = df.columns.str.strip()\n",
    "if 'price(L)' in df.columns:\n",
    "    df['price(L)'] = pd.to_numeric(df['price(L)'], errors='coerce')\n",
    "else:\n",
    "    print(\"Column 'price(L)' does not exist.\")\n",
    "df['price(L)'] = pd.to_numeric(df.get('price(L)', pd.Series()), errors='coerce')\n"
   ]
  },
  {
   "cell_type": "code",
   "execution_count": null,
   "id": "d7d16bb1",
   "metadata": {},
   "outputs": [],
   "source": [
    "# Avg price by property type\n",
    "prop_type_price = df.groupby('title')['price(L)'].mean().sort_values(ascending=False)\n",
    "plt.figure(figsize=(12,6))\n",
    "prop_type_price.plot(kind='bar')\n",
    "plt.title('Average Price by Property Type')\n",
    "plt.ylabel('Price in Lakhs')\n",
    "plt.xticks(rotation=45)\n",
    "plt.show()"
   ]
  },
  {
   "cell_type": "code",
   "execution_count": null,
   "id": "b114ddc7",
   "metadata": {},
   "outputs": [],
   "source": [
    "# Price comparison by building status\n",
    "status_price = df.groupby('building_status')['price(L)'].mean().sort_values(ascending=False)\n",
    "plt.figure(figsize=(10,6))\n",
    "status_price.plot(kind='bar')\n",
    "plt.title('Average Price by Building Status')\n",
    "plt.ylabel('Price in Lakhs')\n",
    "plt.xticks(rotation=45)\n",
    "plt.show()"
   ]
  },
  {
   "cell_type": "code",
   "execution_count": null,
   "id": "9cee978a",
   "metadata": {},
   "outputs": [],
   "source": [
    "# Correlation matrix\n",
    "corr_matrix = df[['price(L)', 'area_insqft', 'rate_persqft', 'bedrooms']].corr()\n",
    "plt.figure(figsize=(10,8))\n",
    "sns.heatmap(corr_matrix, annot=True, cmap='coolwarm')\n",
    "plt.title('Correlation Matrix')\n",
    "plt.show()"
   ]
  },
  {
   "cell_type": "code",
   "execution_count": null,
   "id": "a5a4fda5",
   "metadata": {},
   "outputs": [],
   "source": [
    "# Top 10 locations by price per sqft\n",
    "top_pps = df.groupby('location')['price_per_sqft'].mean().sort_values(ascending=False).head(10)\n",
    "plt.figure(figsize=(12,6))\n",
    "top_pps.plot(kind='bar')\n",
    "plt.title('Average Price per Sqft by Location (Top 10)')\n",
    "plt.ylabel('Price per Sqft (₹)')\n",
    "plt.xticks(rotation=45)\n",
    "plt.show()"
   ]
  },
  {
   "cell_type": "code",
   "execution_count": null,
   "id": "c1f7a739",
   "metadata": {},
   "outputs": [],
   "source": [
    "# Price distribution by BHK\n",
    "plt.figure(figsize=(12,6))\n",
    "sns.boxplot(x='bedrooms', y='price(L)', data=df)\n",
    "plt.title('Price Distribution by Number of Bedrooms')\n",
    "plt.xlabel('Number of Bedrooms')\n",
    "plt.ylabel('Price in Lakhs')\n",
    "plt.show()"
   ]
  },
  {
   "cell_type": "code",
   "execution_count": null,
   "id": "3fde1488",
   "metadata": {},
   "outputs": [
    {
     "name": "stdout",
     "output_type": "stream",
     "text": [
      "R2 Score: 0.508258840260082\n",
      "RMSE: 153.6815049640998\n"
     ]
    }
   ],
   "source": [
    "from sklearn.impute import SimpleImputer\n",
    "\n",
    "# Create an imputer\n",
    "imputer = SimpleImputer(strategy='mean')\n",
    "\n",
    "# Fit and transform X\n",
    "X = df[['area_insqft', 'bedrooms']]\n",
    "X = imputer.fit_transform(X)  # Now X is a numpy array without NaNs\n",
    "\n",
    "y = df['price(L)'].dropna()  # Also make sure y has no NaNs\n",
    "X = X[:len(y)]  # Align X and y if needed\n",
    "\n",
    "X_train, X_test, y_train, y_test = train_test_split(X, y, test_size=0.2, random_state=42)\n",
    "\n",
    "model = LinearRegression()\n",
    "model.fit(X_train, y_train)\n",
    "\n",
    "y_pred = model.predict(X_test)\n",
    "print(f\"R2 Score: {r2_score(y_test, y_pred)}\")\n",
    "print(f\"RMSE: {np.sqrt(mean_squared_error(y_test, y_pred))}\")\n"
   ]
  },
  {
   "cell_type": "code",
   "execution_count": null,
   "id": "1ef219a2",
   "metadata": {},
   "outputs": [
    {
     "name": "stdout",
     "output_type": "stream",
     "text": [
      "Random Forest R2 Score: 0.5578\n",
      "Random Forest RMSE: 129.5782\n"
     ]
    },
    {
     "data": {
      "image/png": "[encoded data removed]",
      "text/plain": [
       "<Figure size 800x500 with 1 Axes>"
      ]
     },
     "metadata": {},
     "output_type": "display_data"
    }
   ],
   "source": [
    "# Make sure X and y are aligned\n",
    "y = y[:len(X)]\n",
    "\n",
    "# Train-test split\n",
    "X_train, X_test, y_train, y_test = train_test_split(X, y, test_size=0.2, random_state=42)\n",
    "\n",
    "# Build Random Forest Regressor\n",
    "model = RandomForestRegressor(n_estimators=100, random_state=42)\n",
    "model.fit(X_train, y_train)\n",
    "\n",
    "# Predictions\n",
    "y_pred = model.predict(X_test)\n",
    "\n",
    "# Evaluation\n",
    "r2 = r2_score(y_test, y_pred)\n",
    "rmse = np.sqrt(mean_squared_error(y_test, y_pred))\n",
    "\n",
    "print(f\"Random Forest R2 Score: {r2:.4f}\")\n",
    "print(f\"Random Forest RMSE: {rmse:.4f}\")\n",
    "\n",
    "# Feature Importance (optional but useful)\n",
    "features = ['area_insqft', 'bedrooms']\n",
    "importances = model.feature_importances_\n",
    "\n",
    "plt.figure(figsize=(8,5))\n",
    "sns.barplot(x=importances, y=features)\n",
    "plt.title('Feature Importance')\n",
    "plt.show()"
   ]
  },
  {
   "cell_type": "code",
   "execution_count": null,
   "id": "5ae25891",
   "metadata": {},
   "outputs": [],
   "source": []
  }
 ],
 "metadata": {
  "kernelspec": {
   "display_name": "venv",
   "language": "python",
   "name": "python3"
  },
  "language_info": {
   "codemirror_mode": {
    "name": "ipython",
    "version": 3
   },
   "file_extension": ".py",
   "mimetype": "text/x-python",
   "name": "python",
   "nbconvert_exporter": "python",
   "pygments_lexer": "ipython3",
   "version": "3.9.13"
  }
 },
 "nbformat": 4,
 "nbformat_minor": 5
}
